{
 "cells": [
  {
   "cell_type": "markdown",
   "id": "7d464635",
   "metadata": {},
   "source": [
    "### Importing the Libraries "
   ]
  },
  {
   "cell_type": "code",
   "execution_count": 1,
   "id": "644d0732",
   "metadata": {},
   "outputs": [
    {
     "name": "stdout",
     "output_type": "stream",
     "text": [
      "WARNING:tensorflow:From C:\\Users\\DELL\\anaconda3\\Lib\\site-packages\\keras\\src\\losses.py:2976: The name tf.losses.sparse_softmax_cross_entropy is deprecated. Please use tf.compat.v1.losses.sparse_softmax_cross_entropy instead.\n",
      "\n"
     ]
    }
   ],
   "source": [
    "import numpy as np \n",
    "import pandas as pd \n",
    "import tensorflow as tf \n",
    "from keras.preprocessing.image import ImageDataGenerator"
   ]
  },
  {
   "cell_type": "markdown",
   "id": "cf91f5f3",
   "metadata": {},
   "source": [
    "### Preprocessing the Dataset "
   ]
  },
  {
   "cell_type": "code",
   "execution_count": 2,
   "id": "ea7fc144",
   "metadata": {},
   "outputs": [],
   "source": [
    "train_datagen = ImageDataGenerator(rescale = 1./255,\n",
    "                                  shear_range = 0.2,\n",
    "                                  zoom_range = 0.2,\n",
    "                                  horizontal_flip = True)\n",
    "\n",
    "test_datagen = ImageDataGenerator(rescale = 1./255)"
   ]
  },
  {
   "cell_type": "code",
   "execution_count": 3,
   "id": "2d203ac1",
   "metadata": {},
   "outputs": [
    {
     "name": "stdout",
     "output_type": "stream",
     "text": [
      "Found 3352 images belonging to 7 classes.\n",
      "Found 813 images belonging to 7 classes.\n"
     ]
    }
   ],
   "source": [
    "training_set = train_datagen.flow_from_directory(r\"C:\\Users\\DELL\\Downloads\\archive (36)\\Cars Dataset\\train\",\n",
    "                                                target_size = (64,64),\n",
    "                                                batch_size = 32,\n",
    "                                                class_mode = 'categorical')\n",
    "\n",
    "testing_set = test_datagen.flow_from_directory(r\"C:\\Users\\DELL\\Downloads\\archive (36)\\Cars Dataset\\test\",\n",
    "                                                target_size = (64,64),\n",
    "                                                batch_size = 32,\n",
    "                                                class_mode = 'categorical')"
   ]
  },
  {
   "cell_type": "markdown",
   "id": "74e012a5",
   "metadata": {},
   "source": [
    "### Building the CNN model"
   ]
  },
  {
   "cell_type": "code",
   "execution_count": 4,
   "id": "846795c8",
   "metadata": {},
   "outputs": [
    {
     "name": "stdout",
     "output_type": "stream",
     "text": [
      "WARNING:tensorflow:From C:\\Users\\DELL\\anaconda3\\Lib\\site-packages\\keras\\src\\backend.py:873: The name tf.get_default_graph is deprecated. Please use tf.compat.v1.get_default_graph instead.\n",
      "\n",
      "WARNING:tensorflow:From C:\\Users\\DELL\\anaconda3\\Lib\\site-packages\\keras\\src\\layers\\pooling\\max_pooling2d.py:161: The name tf.nn.max_pool is deprecated. Please use tf.nn.max_pool2d instead.\n",
      "\n"
     ]
    }
   ],
   "source": [
    "# Build the CNN model\n",
    "cnn = tf.keras.models.Sequential()\n",
    "\n",
    "# First convolutional layer\n",
    "cnn.add(tf.keras.layers.Conv2D(filters=32, kernel_size=3, activation='relu', input_shape=(64, 64, 3)))\n",
    "cnn.add(tf.keras.layers.MaxPool2D(pool_size=2, strides=2))\n",
    "\n",
    "# Second convolutional layer\n",
    "cnn.add(tf.keras.layers.Conv2D(filters=64, kernel_size=3, activation='relu'))\n",
    "cnn.add(tf.keras.layers.MaxPool2D(pool_size=2, strides=2))\n",
    "\n",
    "# Third convolutional layer\n",
    "cnn.add(tf.keras.layers.Conv2D(filters=128, kernel_size=3, activation='relu'))\n",
    "cnn.add(tf.keras.layers.MaxPool2D(pool_size=2, strides=2))\n",
    "\n",
    "# Flattening layer\n",
    "cnn.add(tf.keras.layers.Flatten())\n",
    "\n",
    "# Fully connected layer with Dropout\n",
    "cnn.add(tf.keras.layers.Dense(units=128, activation='relu'))\n",
    "cnn.add(tf.keras.layers.Dropout(0.5))\n",
    "\n",
    "# Output layer\n",
    "cnn.add(tf.keras.layers.Dense(units=7, activation='softmax'))"
   ]
  },
  {
   "cell_type": "code",
   "execution_count": 5,
   "id": "d6734d9c",
   "metadata": {},
   "outputs": [],
   "source": [
    "#cnn = tf.keras.models.Sequential()"
   ]
  },
  {
   "cell_type": "code",
   "execution_count": 6,
   "id": "28185ba0",
   "metadata": {},
   "outputs": [],
   "source": [
    "#First convolution layer\n",
    "#cnn.add(tf.keras.layers.Conv2D(filters = 32, kernel_size = 3, activation = 'relu', input_shape = (64,64,3)))"
   ]
  },
  {
   "cell_type": "code",
   "execution_count": 7,
   "id": "caff7d38",
   "metadata": {},
   "outputs": [],
   "source": [
    "#First Pooling Layer\n",
    "#cnn.add(tf.keras.layers.MaxPool2D(pool_size = 2, strides = 2))"
   ]
  },
  {
   "cell_type": "code",
   "execution_count": 8,
   "id": "1116f651",
   "metadata": {},
   "outputs": [],
   "source": [
    "#Second convolution layer\n",
    "#cnn.add(tf.keras.layers.Conv2D(filters = 32, kernel_size = 3, activation = 'relu'))\n",
    "#cnn.add(tf.keras.layers.MaxPool2D(pool_size = 2, strides = 2))"
   ]
  },
  {
   "cell_type": "code",
   "execution_count": 9,
   "id": "04197a14",
   "metadata": {},
   "outputs": [],
   "source": [
    "#Third convolution layer\n",
    "#cnn.add(tf.keras.layers.Conv2D(filters = 120, kernel_size = 3, activation = 'relu'))\n",
    "#cnn.add(tf.keras.layers.MaxPool2D(pool_size = 2, strides = 2))"
   ]
  },
  {
   "cell_type": "code",
   "execution_count": 10,
   "id": "47444018",
   "metadata": {},
   "outputs": [],
   "source": [
    "#Flattening layer\n",
    "#cnn.add(tf.keras.layers.Flatten())"
   ]
  },
  {
   "cell_type": "code",
   "execution_count": 11,
   "id": "5dab9ab8",
   "metadata": {},
   "outputs": [],
   "source": [
    "#Dropout Layer\n",
    "#from keras.layers import Dropout\n",
    "#cnn.add(Dropout(0.2))  # Dropout rate of 20%\n"
   ]
  },
  {
   "cell_type": "code",
   "execution_count": 12,
   "id": "4b901143",
   "metadata": {},
   "outputs": [],
   "source": [
    "#Fully connected layer\n",
    "#cnn.add(tf.keras.layers.Dense(units=128, activation = 'relu'))"
   ]
  },
  {
   "cell_type": "code",
   "execution_count": 13,
   "id": "1f19aad8",
   "metadata": {},
   "outputs": [],
   "source": [
    "#Output Layer \n",
    "#cnn.add(tf.keras.layers.Dense(units = 7, activation= 'softmax'))"
   ]
  },
  {
   "cell_type": "markdown",
   "id": "06fc4177",
   "metadata": {},
   "source": [
    "### Compiling the CNN"
   ]
  },
  {
   "cell_type": "code",
   "execution_count": 14,
   "id": "4d5e3c5f",
   "metadata": {},
   "outputs": [
    {
     "name": "stdout",
     "output_type": "stream",
     "text": [
      "WARNING:tensorflow:From C:\\Users\\DELL\\anaconda3\\Lib\\site-packages\\keras\\src\\optimizers\\__init__.py:309: The name tf.train.Optimizer is deprecated. Please use tf.compat.v1.train.Optimizer instead.\n",
      "\n"
     ]
    }
   ],
   "source": [
    "cnn.compile(optimizer = 'adam', loss = 'categorical_crossentropy', metrics = ['accuracy'])"
   ]
  },
  {
   "cell_type": "markdown",
   "id": "eaa55e2c",
   "metadata": {},
   "source": [
    "### Building the CNN Model "
   ]
  },
  {
   "cell_type": "code",
   "execution_count": 15,
   "id": "edb1c5ba",
   "metadata": {},
   "outputs": [
    {
     "name": "stdout",
     "output_type": "stream",
     "text": [
      "Epoch 1/20\n",
      "WARNING:tensorflow:From C:\\Users\\DELL\\anaconda3\\Lib\\site-packages\\keras\\src\\utils\\tf_utils.py:492: The name tf.ragged.RaggedTensorValue is deprecated. Please use tf.compat.v1.ragged.RaggedTensorValue instead.\n",
      "\n",
      "WARNING:tensorflow:From C:\\Users\\DELL\\anaconda3\\Lib\\site-packages\\keras\\src\\engine\\base_layer_utils.py:384: The name tf.executing_eagerly_outside_functions is deprecated. Please use tf.compat.v1.executing_eagerly_outside_functions instead.\n",
      "\n",
      "105/105 [==============================] - 26s 226ms/step - loss: 1.8444 - accuracy: 0.2691 - val_loss: 1.7211 - val_accuracy: 0.3702\n",
      "Epoch 2/20\n",
      "105/105 [==============================] - 23s 215ms/step - loss: 1.7426 - accuracy: 0.3389 - val_loss: 1.6432 - val_accuracy: 0.3887\n",
      "Epoch 3/20\n",
      "105/105 [==============================] - 23s 215ms/step - loss: 1.6445 - accuracy: 0.3887 - val_loss: 1.5516 - val_accuracy: 0.4379\n",
      "Epoch 4/20\n",
      "105/105 [==============================] - 24s 229ms/step - loss: 1.5031 - accuracy: 0.4555 - val_loss: 1.5408 - val_accuracy: 0.4379\n",
      "Epoch 5/20\n",
      "105/105 [==============================] - 23s 216ms/step - loss: 1.3873 - accuracy: 0.4863 - val_loss: 1.3171 - val_accuracy: 0.5412\n",
      "Epoch 6/20\n",
      "105/105 [==============================] - 23s 215ms/step - loss: 1.3176 - accuracy: 0.5254 - val_loss: 1.3379 - val_accuracy: 0.5228\n",
      "Epoch 7/20\n",
      "105/105 [==============================] - 23s 217ms/step - loss: 1.2200 - accuracy: 0.5701 - val_loss: 1.2760 - val_accuracy: 0.5301\n",
      "Epoch 8/20\n",
      "105/105 [==============================] - 23s 216ms/step - loss: 1.1641 - accuracy: 0.5907 - val_loss: 1.0669 - val_accuracy: 0.6089\n",
      "Epoch 9/20\n",
      "105/105 [==============================] - 23s 216ms/step - loss: 1.0718 - accuracy: 0.6265 - val_loss: 1.0884 - val_accuracy: 0.6064\n",
      "Epoch 10/20\n",
      "105/105 [==============================] - 24s 226ms/step - loss: 1.0101 - accuracy: 0.6429 - val_loss: 0.9656 - val_accuracy: 0.6531\n",
      "Epoch 11/20\n",
      "105/105 [==============================] - 23s 219ms/step - loss: 0.9683 - accuracy: 0.6632 - val_loss: 0.9639 - val_accuracy: 0.6728\n",
      "Epoch 12/20\n",
      "105/105 [==============================] - 23s 217ms/step - loss: 0.9128 - accuracy: 0.6811 - val_loss: 1.0013 - val_accuracy: 0.6617\n",
      "Epoch 13/20\n",
      "105/105 [==============================] - 23s 216ms/step - loss: 0.8538 - accuracy: 0.6978 - val_loss: 0.9407 - val_accuracy: 0.6679\n",
      "Epoch 14/20\n",
      "105/105 [==============================] - 23s 216ms/step - loss: 0.8533 - accuracy: 0.7094 - val_loss: 0.8393 - val_accuracy: 0.6999\n",
      "Epoch 15/20\n",
      "105/105 [==============================] - 23s 215ms/step - loss: 0.7941 - accuracy: 0.7169 - val_loss: 0.8500 - val_accuracy: 0.7122\n",
      "Epoch 16/20\n",
      "105/105 [==============================] - 26s 243ms/step - loss: 0.7446 - accuracy: 0.7387 - val_loss: 0.9396 - val_accuracy: 0.6876\n",
      "Epoch 17/20\n",
      "105/105 [==============================] - 26s 246ms/step - loss: 0.7067 - accuracy: 0.7503 - val_loss: 0.8468 - val_accuracy: 0.7122\n",
      "Epoch 18/20\n",
      "105/105 [==============================] - 26s 249ms/step - loss: 0.6852 - accuracy: 0.7646 - val_loss: 0.7820 - val_accuracy: 0.7343\n",
      "Epoch 19/20\n",
      "105/105 [==============================] - 28s 264ms/step - loss: 0.6470 - accuracy: 0.7763 - val_loss: 0.8140 - val_accuracy: 0.7294\n",
      "Epoch 20/20\n",
      "105/105 [==============================] - 27s 255ms/step - loss: 0.6113 - accuracy: 0.7903 - val_loss: 0.8126 - val_accuracy: 0.7331\n"
     ]
    }
   ],
   "source": [
    "history = cnn.fit(x = training_set, validation_data = testing_set, epochs = 20)"
   ]
  },
  {
   "cell_type": "code",
   "execution_count": 16,
   "id": "14ae4a08",
   "metadata": {},
   "outputs": [
    {
     "data": {
      "image/png": "[encoded data removed]",
      "text/plain": [
       "<Figure size 1200x400 with 2 Axes>"
      ]
     },
     "metadata": {},
     "output_type": "display_data"
    }
   ],
   "source": [
    "import matplotlib.pyplot as plt\n",
    "plt.figure(figsize=(12, 4))\n",
    "\n",
    "plt.subplot(1, 2, 1)\n",
    "plt.plot(history.history['accuracy'], label='Train Accuracy')\n",
    "plt.plot(history.history['val_accuracy'], label='Validation Accuracy')\n",
    "plt.title('Model Accuracy')\n",
    "plt.xlabel('Epoch')\n",
    "plt.ylabel('Accuracy')\n",
    "plt.legend(loc='upper left')\n",
    "\n",
    "# Plot training & validation loss values\n",
    "plt.subplot(1, 2, 2)\n",
    "plt.plot(history.history['loss'], label='Train Loss')\n",
    "plt.plot(history.history['val_loss'], label='Validation Loss')\n",
    "plt.title('Model Loss')\n",
    "plt.xlabel('Epoch')\n",
    "plt.ylabel('Loss')\n",
    "plt.legend(loc='upper left')\n",
    "\n",
    "plt.tight_layout()\n",
    "plt.show()"
   ]
  },
  {
   "cell_type": "code",
   "execution_count": 22,
   "id": "3e5d928c",
   "metadata": {},
   "outputs": [
    {
     "name": "stdout",
     "output_type": "stream",
     "text": [
      "1/1 [==============================] - 0s 76ms/step\n",
      "Predicted class: SWIFT\n"
     ]
    }
   ],
   "source": [
    "# Input an Image to check if the model is working fine or not\n",
    "\n",
    "import numpy as np \n",
    "from keras.preprocessing import image \n",
    "\n",
    "img = image.load_img('Cars Dataset/test/Audi/1022.jpg', target_size = (64,64))\n",
    "img = image.img_to_array(img)\n",
    "img = np.expand_dims(img, axis = 0)\n",
    "# Predict the class\n",
    "result = cnn.predict(img)\n",
    "\n",
    "# Define class labels (ensure these match the order used during training)\n",
    "class_labels = ['AUDI', 'HYUNDAI CRETA', 'MAHINDRA SCORPIO', 'ROLLS ROYCE', 'SWIFT', 'TATA SAFARI', 'TOYOTA INNOVA']\n",
    "\n",
    "# Find the predicted class index\n",
    "predicted_class_index = np.argmax(result)\n",
    "\n",
    "# Get the predicted class label\n",
    "prediction = class_labels[predicted_class_index]\n",
    "\n",
    "# Print the prediction\n",
    "print(f'Predicted class: {prediction}')"
   ]
  },
  {
   "cell_type": "code",
   "execution_count": null,
   "id": "af7e2d28",
   "metadata": {},
   "outputs": [],
   "source": []
  },
  {
   "cell_type": "code",
   "execution_count": null,
   "id": "a6e1ccbf",
   "metadata": {},
   "outputs": [],
   "source": []
  },
  {
   "cell_type": "code",
   "execution_count": null,
   "id": "f82b6e75",
   "metadata": {},
   "outputs": [],
   "source": []
  },
  {
   "cell_type": "code",
   "execution_count": null,
   "id": "5afe1d49",
   "metadata": {},
   "outputs": [],
   "source": []
  }
 ],
 "metadata": {
  "kernelspec": {
   "display_name": "Python 3 (ipykernel)",
   "language": "python",
   "name": "python3"
  },
  "language_info": {
   "codemirror_mode": {
    "name": "ipython",
    "version": 3
   },
   "file_extension": ".py",
   "mimetype": "text/x-python",
   "name": "python",
   "nbconvert_exporter": "python",
   "pygments_lexer": "ipython3",
   "version": "3.11.5"
  }
 },
 "nbformat": 4,
 "nbformat_minor": 5
}
